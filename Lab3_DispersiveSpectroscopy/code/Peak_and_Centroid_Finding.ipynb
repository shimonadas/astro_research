{
  "cells": [
    {
      "cell_type": "markdown",
      "metadata": {
        "id": "WhYj9Ly4ytBd"
      },
      "source": [
        "# AST325/326\n",
        "\n",
        "### In this notebook we will go over peak and centroid finding in Python!"
      ]
    },
    {
      "cell_type": "code",
      "execution_count": null,
      "metadata": {
        "id": "aot-Vax6ymrr"
      },
      "outputs": [],
      "source": [
        "#import everything\n",
        "%matplotlib inline\n",
        "import matplotlib.pyplot as plt\n",
        "import matplotlib.cm as cm\n",
        "import matplotlib.gridspec as gridspec\n",
        "import matplotlib.ticker as ticker\n",
        "import numpy as np\n",
        "import scipy as sp"
      ]
    },
    {
      "cell_type": "markdown",
      "metadata": {
        "id": "Ar4MM_GG4v4n"
      },
      "source": [
        "Let's load a dataset of a xenon spectrum. (NIST Atomic Spectra Database, https://www.atomtrace.com/elements-database/element/54)"
      ]
    },
    {
      "cell_type": "code",
      "execution_count": null,
      "metadata": {
        "id": "nztLfprQy8rE"
      },
      "outputs": [],
      "source": [
        "wavelength, intensity = np.loadtxt('54_NIST.asc', unpack = True)"
      ]
    },
    {
      "cell_type": "code",
      "execution_count": null,
      "metadata": {
        "id": "rSaHvlL631EX"
      },
      "outputs": [],
      "source": [
        "plt.rcParams[\"figure.figsize\"] = (7,4)\n",
        "plt.rcParams['font.size'] = 16\n",
        "plt.rcParams['xtick.labelsize'] = 12\n",
        "plt.rcParams['ytick.labelsize'] = 12"
      ]
    },
    {
      "cell_type": "markdown",
      "metadata": {
        "id": "VMh7EkLMppTh"
      },
      "source": [
        "Let's take a look at the data."
      ]
    },
    {
      "cell_type": "code",
      "execution_count": null,
      "metadata": {
        "colab": {
          "base_uri": "https://localhost:8080/",
          "height": 398
        },
        "id": "d4F0oiMVzFQH",
        "outputId": "02cc0e16-32e2-453d-fde3-a69fb4da441b"
      },
      "outputs": [],
      "source": [
        "plt.figure()\n",
        "\n",
        "plt.plot(wavelength, intensity, color = 'purple')\n",
        "\n",
        "plt.xlabel('Wavelength [nm]')\n",
        "plt.ylabel('Intensity [a.u.]')\n",
        "\n",
        "plt.grid(ls = '-.')\n",
        "plt.show()"
      ]
    },
    {
      "cell_type": "markdown",
      "metadata": {
        "id": "JRSrbkIuuRFA"
      },
      "source": [
        "### Now let's use scipy.find_peaks to find the peak locations. We have multiple parameters we can use to specify how many/what types of peaks we want. Play around with different settings to compare them!\n",
        "\n",
        "* **Height:** Required height of peaks. Either a number, None, an array matching x or a 2-element sequence of the former. The first element is always interpreted as the minimal and the second, if supplied, as the maximal required height.\n",
        "\n",
        "* **Width:** Required width of peaks in samples. Either a number, None, an array matching x or a 2-element sequence of the former. The first element is always interpreted as the minimal and the second, if supplied, as the maximal required width.\n",
        "\n",
        "* **Distance:** Required minimal horizontal distance (>= 1) in samples between neighbouring peaks. Smaller peaks are removed first until the condition is fulfilled for all remaining peaks.\n",
        "\n",
        "* **Threshold:** Required threshold of peaks, the vertical distance to its neighboring samples. Either a number, None, an array matching x or a 2-element sequence of the former. The first element is always interpreted as the minimal and the second, if supplied, as the maximal required threshold.\n",
        "\n",
        "* **Prominence:** Required prominence of peaks. Either a number, None, an array matching x or a 2-element sequence of the former. The first element is always interpreted as the minimal and the second, if supplied, as the maximal required prominence.\n",
        "\n"
      ]
    },
    {
      "cell_type": "code",
      "execution_count": null,
      "metadata": {
        "id": "VXWnPv3Q6yAI"
      },
      "outputs": [],
      "source": [
        "peaks = sp.signal.find_peaks(intensity, prominence = 7e-3)[0]\n",
        "\n",
        "num_peaks = len(peaks)"
      ]
    },
    {
      "cell_type": "code",
      "execution_count": null,
      "metadata": {
        "colab": {
          "base_uri": "https://localhost:8080/",
          "height": 398
        },
        "id": "iAFDt6q75vZ5",
        "outputId": "7ffd9e81-5c2d-47fd-d00a-eb86eab2f6bd"
      },
      "outputs": [],
      "source": [
        "plt.figure()\n",
        "\n",
        "plt.plot(wavelength, intensity, color = 'purple', label = 'Data')\n",
        "plt.plot(wavelength[peaks], intensity[peaks], color = 'coral', ls = '',\n",
        "         marker = 'x',  ms = 5, label = 'Peaks')\n",
        "\n",
        "plt.xlabel('Wavelength [nm]')\n",
        "plt.ylabel('Intensity [a.u.]')\n",
        "\n",
        "plt.legend(loc = 'best', fontsize = 10)\n",
        "plt.grid(ls = '-.')\n",
        "plt.show()"
      ]
    },
    {
      "cell_type": "markdown",
      "metadata": {
        "id": "Y_kbVXg0U7ss"
      },
      "source": [
        "#### We can now use these peaks to find the centroids which can be thought of as the \"center of mass\" or weighted mean of the peaks. The peaks may not be the actual peak value as we are limited by our measurments which is why we we can't just use the peak value!\n",
        "\n",
        "Recall,\n",
        "\n",
        "$x_{\\text{cent}} = \\frac{∑x_iI_i}{∑I_i}$,\n",
        "\n",
        "where $x_{\\text{cent}}$ is the centroid, $x_i$ are the x-values, and $I_i$ are the intensity values. Also note that this assumes that the background is distributed around 0!"
      ]
    },
    {
      "cell_type": "code",
      "execution_count": null,
      "metadata": {
        "id": "-WWjCC8g66Nt"
      },
      "outputs": [],
      "source": [
        "def centroid(x, I):\n",
        "  '''\n",
        "  Returns the centroid value for a given set of x- and intensity values.\n",
        "\n",
        "  Input: x: x values, I: intensity values\n",
        "  Output: centroid value\n",
        "  '''\n",
        "\n",
        "  return np.sum(x*I)/np.sum(I)"
      ]
    },
    {
      "cell_type": "markdown",
      "metadata": {
        "id": "3ccmyW9DW0Rx"
      },
      "source": [
        "Let's look at what value we should use for our centroid ranges around the peaks."
      ]
    },
    {
      "cell_type": "code",
      "execution_count": null,
      "metadata": {
        "colab": {
          "base_uri": "https://localhost:8080/",
          "height": 398
        },
        "id": "mHXWZHPeWjLN",
        "outputId": "16304023-9ac4-4112-acdc-2ededa629a90"
      },
      "outputs": [],
      "source": [
        "plt.figure()\n",
        "\n",
        "range_val = 50\n",
        "\n",
        "colours = cm.plasma(np.linspace(0, 1, num_peaks))\n",
        "\n",
        "plt.plot(wavelength, intensity, color = 'purple', label = 'Data')\n",
        "plt.plot(wavelength[peaks], intensity[peaks], color = 'coral', ls = '',\n",
        "         marker = 'x',  ms = 5, label = 'Peaks')\n",
        "\n",
        "[plt.axvline(wavelength[peaks[i]-range_val], color = colours[i], alpha = 0.5)\n",
        "for i in range(len(peaks))]\n",
        "\n",
        "[plt.axvline(wavelength[peaks[i]+range_val], color = colours[i], alpha = 0.5)\n",
        "for i in range(len(peaks))]\n",
        "\n",
        "plt.xlabel('Wavelength [nm]')\n",
        "plt.ylabel('Intensity [a.u.]')\n",
        "\n",
        "plt.legend(loc = 'best', fontsize = 10)\n",
        "plt.grid(ls = '-.')\n",
        "plt.xlim((400, 800))\n",
        "plt.show()"
      ]
    },
    {
      "cell_type": "markdown",
      "metadata": {
        "id": "nnGOSH30ZX3N"
      },
      "source": [
        "Let's zoom in to confirm these ranges."
      ]
    },
    {
      "cell_type": "code",
      "execution_count": null,
      "metadata": {
        "colab": {
          "base_uri": "https://localhost:8080/",
          "height": 398
        },
        "id": "N8_Y5620Wwbn",
        "outputId": "7c940539-31b0-4921-b525-987e22744ea4"
      },
      "outputs": [],
      "source": [
        "plt.figure()\n",
        "\n",
        "colours_t = cm.plasma(np.linspace(0, 1, 10))\n",
        "\n",
        "plt.plot(wavelength, intensity, color = 'purple', label = 'Data')\n",
        "plt.plot(wavelength[peaks], intensity[peaks], color = 'coral', ls = '',\n",
        "         marker = 'x',  ms = 5, label = 'Peaks')\n",
        "\n",
        "[plt.axvline(wavelength[peaks[i]-range_val], color = colours_t[i], alpha = 0.5)\n",
        "for i in range(len(peaks[:10]))]\n",
        "\n",
        "[plt.axvline(wavelength[peaks[i]+range_val], color = colours_t[i], alpha = 0.5)\n",
        "for i in range(len(peaks[:10]))]\n",
        "\n",
        "plt.xlabel('Wavelength [nm]')\n",
        "plt.ylabel('Intensity [a.u.]')\n",
        "\n",
        "plt.legend(loc = 'best', fontsize = 10)\n",
        "plt.grid(ls = '-.')\n",
        "plt.xlim((425, 500))\n",
        "plt.show()"
      ]
    },
    {
      "cell_type": "code",
      "execution_count": null,
      "metadata": {
        "id": "pCZWY0N6cKOO"
      },
      "outputs": [],
      "source": [
        "centroids = [centroid(wavelength[peaks[i]-range_val:peaks[i]+range_val], intensity[peaks[i]-range_val:peaks[i]+range_val]) for i in range(len(peaks))]"
      ]
    },
    {
      "cell_type": "markdown",
      "metadata": {
        "id": "zE997GGFdZ7Q"
      },
      "source": [
        "Let's plot the centroids."
      ]
    },
    {
      "cell_type": "code",
      "execution_count": null,
      "metadata": {
        "colab": {
          "base_uri": "https://localhost:8080/",
          "height": 398
        },
        "id": "vvzlcPk0bW03",
        "outputId": "ec68851e-ee08-4d92-defb-6326ba0af789"
      },
      "outputs": [],
      "source": [
        "fig = plt.figure()\n",
        "\n",
        "gs = gridspec.GridSpec(2, 1, height_ratios=[3, 1], hspace = 0.0)\n",
        "ax0 = plt.subplot(gs[0])\n",
        "ax1 = plt.subplot(gs[1], sharex = ax0)\n",
        "\n",
        "ax0.plot(wavelength, intensity, color = 'purple', label = 'Data')\n",
        "ax0.plot(wavelength[peaks], intensity[peaks], color = 'coral', ls = '', marker = 'x',\n",
        "         ms = 5, label = 'Peaks')\n",
        "\n",
        "[ax0.axvline(c, color = 'teal', alpha = 0.5, label = 'Centroids') if c == centroids[0]\n",
        " else ax0.axvline(c, color = 'teal', alpha = 0.5) for c in centroids]\n",
        "\n",
        "ax1.plot(wavelength[peaks], wavelength[peaks] - centroids, ls = '', marker = '.', color = 'coral')\n",
        "\n",
        "ax1.set_xlabel('Wavelength [nm]')\n",
        "ax0.set_ylabel('Intensity [a.u.]')\n",
        "ax1.set_ylabel('Residuals')\n",
        "\n",
        "plt.setp(ax0.get_xticklabels(), visible = False)\n",
        "\n",
        "ax0.legend(loc = 'best', fontsize = 10)\n",
        "ax0.grid(ls = '-.')\n",
        "ax1.grid(ls = '-.')\n",
        "plt.xlim((350, 850))\n",
        "plt.show()"
      ]
    },
    {
      "cell_type": "markdown",
      "metadata": {
        "id": "BxYsqtqvdhzz"
      },
      "source": [
        "Let's zoom in to check!"
      ]
    },
    {
      "cell_type": "code",
      "execution_count": null,
      "metadata": {
        "colab": {
          "base_uri": "https://localhost:8080/",
          "height": 398
        },
        "id": "em4TwDzBc8KU",
        "outputId": "e147b34b-02a8-4049-d100-050819d90dd5"
      },
      "outputs": [],
      "source": [
        "fig = plt.figure()\n",
        "\n",
        "gs = gridspec.GridSpec(2, 1, height_ratios=[3, 1], hspace = 0.0)\n",
        "ax0 = plt.subplot(gs[0])\n",
        "ax1 = plt.subplot(gs[1], sharex = ax0)\n",
        "\n",
        "ax0.plot(wavelength, intensity, color = 'purple', label = 'Data')\n",
        "ax0.plot(wavelength[peaks], intensity[peaks], color = 'coral', ls = '', marker = 'x',\n",
        "         ms = 5, label = 'Peaks')\n",
        "\n",
        "[ax0.axvline(c, color = 'teal', alpha = 0.5, label = 'Centroids') if c == centroids[0]\n",
        " else ax0.axvline(c, color = 'teal', alpha = 0.5) for c in centroids]\n",
        "\n",
        "ax1.plot(wavelength[peaks], wavelength[peaks] - centroids, ls = '', marker = '.', color = 'coral')\n",
        "\n",
        "ax1.set_xlabel('Wavelength [nm]')\n",
        "ax0.set_ylabel('Intensity [a.u.]')\n",
        "ax1.set_ylabel('Residuals')\n",
        "\n",
        "plt.setp(ax0.get_xticklabels(), visible = False)\n",
        "\n",
        "ax0.legend(loc = 'best', fontsize = 10)\n",
        "ax0.grid(ls = '-.')\n",
        "ax1.grid(ls = '-.')\n",
        "plt.xlim(425, 500)\n",
        "plt.show()"
      ]
    }
  ],
  "metadata": {
    "colab": {
      "provenance": []
    },
    "kernelspec": {
      "display_name": "Python 3",
      "name": "python3"
    },
    "language_info": {
      "codemirror_mode": {
        "name": "ipython",
        "version": 3
      },
      "file_extension": ".py",
      "mimetype": "text/x-python",
      "name": "python",
      "nbconvert_exporter": "python",
      "pygments_lexer": "ipython3",
      "version": "3.10.12"
    }
  },
  "nbformat": 4,
  "nbformat_minor": 0
}
